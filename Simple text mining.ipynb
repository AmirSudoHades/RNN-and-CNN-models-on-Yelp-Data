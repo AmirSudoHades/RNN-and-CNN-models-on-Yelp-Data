{
 "cells": [
  {
   "cell_type": "markdown",
   "metadata": {},
   "source": [
    "Here we are trying to work with only one dataset, i.e. review.json of aroun 5.3 GB size"
   ]
  },
  {
   "cell_type": "code",
   "execution_count": 1,
   "metadata": {},
   "outputs": [
    {
     "name": "stdout",
     "output_type": "stream",
     "text": [
      "0\n",
      "10000\n",
      "20000\n",
      "30000\n",
      "40000\n",
      "50000\n",
      "60000\n",
      "70000\n",
      "80000\n",
      "90000\n",
      "100000\n",
      "       stars                                               text\n",
      "0        1.0  Total bill for this horrible service? Over $8G...\n",
      "1        5.0  I *adore* Travis at the Hard Rock's new Kelly ...\n",
      "2        5.0  I have to say that this office really has it t...\n",
      "3        5.0  Went in for a lunch. Steak sandwich was delici...\n",
      "4        1.0  Today was my second out of three sessions I ha...\n",
      "5        4.0  I'll be the first to admit that I was not exci...\n",
      "6        3.0  Tracy dessert had a big name in Hong Kong and ...\n",
      "7        1.0  This place has gone down hill.  Clearly they h...\n",
      "8        2.0  I was really looking forward to visiting after...\n",
      "9        3.0  It's a giant Best Buy with 66 registers.  I do...\n",
      "10       4.0  Like walking back in time, every Saturday morn...\n",
      "11       1.0  Walked in around 4 on a Friday afternoon, we s...\n",
      "12       4.0  Wow. So surprised at the one and two star revi...\n",
      "13       4.0  Michael from Red Carpet VIP is amazing ! I rea...\n",
      "14       1.0  I cannot believe how things have changed in 3 ...\n",
      "15       5.0  You can't really find anything wrong with this...\n",
      "16       4.0  Great lunch today. Staff was very helpful in a...\n",
      "17       3.0  I love chinese food and I love mexican food. W...\n",
      "18       5.0  We've been a huge Slim's fan since they opened...\n",
      "19       3.0  Good selection of classes of beers and mains. ...\n",
      "20       5.0  Our family LOVES the food here. Quick, friendl...\n",
      "21       5.0  If you are looking for the best pierogies in P...\n",
      "22       4.0  The food is always good and the prices are rea...\n",
      "23       5.0  Pick any meat on the planet and the chef will ...\n",
      "24       5.0  Great food, great service. Obviously fried chi...\n",
      "25       5.0  PlumbSmart provided superior service from begi...\n",
      "26       1.0  Unfortunately, I must recommend not to conduct...\n",
      "27       5.0  their pettuccine was fresh-made in the morning...\n",
      "28       1.0  if i can give this place no stars i would, i o...\n",
      "29       1.0  This review is in regards to our experience wa...\n",
      "...      ...                                                ...\n",
      "99970    5.0  This is the best kosher market in the Valley. ...\n",
      "99971    2.0  This review is mainly based on the service we ...\n",
      "99972    4.0  Awesome & great tasting food, extremely long l...\n",
      "99973    4.0  They have a great selection of clothes for my ...\n",
      "99974    2.0  I went to this timmies to get some coffee and ...\n",
      "99975    2.0  I'm not certain why people would pay for this....\n",
      "99976    4.0  I was attending the Action on Film Megafest an...\n",
      "99977    5.0  I love this office and the care takers in it a...\n",
      "99978    5.0  Stopped in for the Saturday Brunch with unlimi...\n",
      "99979    3.0  I have ordered a couple of sandwiches from thi...\n",
      "99980    5.0  After dealing with another company that wanted...\n",
      "99981    1.0  Unfortunately I had an awful experience with t...\n",
      "99982    5.0  Ordered in on a rainy windy day, they accommod...\n",
      "99983    4.0  The Tempe location always has excellent servic...\n",
      "99984    4.0  La bouffe est bonne, le service est bon. On a ...\n",
      "99985    5.0  great food at a reasonable price....bartenders...\n",
      "99986    3.0  Checked out Lucky Lou's for happy hour last ni...\n",
      "99987    4.0  I came here lastnight with my 4 other friends....\n",
      "99988    4.0  I have used Rain in both of its spellings for ...\n",
      "99989    3.0  This place has a nice vibe and ambiance to it....\n",
      "99990    5.0  I Originally came here because I saw pictures ...\n",
      "99991    5.0  This is one of my favorite escape rooms I have...\n",
      "99992    5.0  The food is very good.  It's worth a trip just...\n",
      "99993    5.0  Hands down the best Thai food in Charlotte. Re...\n",
      "99994    3.0  First Vegas buffet in the books, and here's th...\n",
      "99995    3.0  I love the clothes in Aritzia. The service I c...\n",
      "99996    1.0  We went here to have a small dinner with famil...\n",
      "99997    5.0  Amazing!!! Our 2 boys never had this much fun ...\n",
      "99998    5.0  Wanted a short hair cut but didn't have a regu...\n",
      "99999    5.0  This place is rad! Dueling pianos, happy hour ...\n",
      "\n",
      "[100000 rows x 2 columns]\n"
     ]
    }
   ],
   "source": [
    "import json\n",
    "import pandas as pd\n",
    "import matplotlib.pyplot as plt\n",
    "# open input file:\n",
    "ifile = open('review.json')\n",
    "# read the first 100k entries\n",
    "# set to -1 to process everything\n",
    "stop = 100000\n",
    "all_data = list()\n",
    "for i, line in enumerate(ifile):\n",
    "    if i%10000==0:\n",
    "        print(i)\n",
    "    if i==stop:\n",
    "        break\n",
    "    # convert the json on this line to a dict\n",
    "    data = json.loads(line)\n",
    "    # extract what we want\n",
    "    text = data['text']\n",
    "    stars = data['stars']\n",
    "    # add to the data collected so far\n",
    "    all_data.append([stars, text])\n",
    "# create the DataFrame\n",
    "df = pd.DataFrame(all_data, columns=['stars','text'])\n",
    "print(df)\n",
    "# df.to_hdf('revie20ws.h5','reviews')\n",
    "ifile.close()\n"
   ]
  },
  {
   "cell_type": "code",
   "execution_count": 2,
   "metadata": {},
   "outputs": [
    {
     "data": {
      "text/plain": [
       "[1.0, 2.0, 3.0, 4.0, 5.0]"
      ]
     },
     "execution_count": 2,
     "metadata": {},
     "output_type": "execute_result"
    }
   ],
   "source": [
    "stars = df['stars'] \n",
    "sorted(stars.unique())"
   ]
  },
  {
   "cell_type": "code",
   "execution_count": 3,
   "metadata": {},
   "outputs": [
    {
     "data": {
      "text/plain": [
       "(array([14585.,  7975., 10970., 22103., 44367.]),\n",
       " array([0.5, 1.5, 2.5, 3.5, 4.5, 5.5]),\n",
       " <a list of 5 Patch objects>)"
      ]
     },
     "execution_count": 3,
     "metadata": {},
     "output_type": "execute_result"
    },
    {
     "data": {
      "image/png": "[encoded data removed]",
      "text/plain": [
       "<Figure size 432x288 with 1 Axes>"
      ]
     },
     "metadata": {
      "needs_background": "light"
     },
     "output_type": "display_data"
    }
   ],
   "source": [
    "plt.hist(stars, range=(0.5, 5.5), bins=5)"
   ]
  },
  {
   "cell_type": "code",
   "execution_count": 4,
   "metadata": {
    "scrolled": true
   },
   "outputs": [
    {
     "data": {
      "text/plain": [
       "(array([1.420e+02, 2.858e+03, 8.068e+03, 8.616e+03, 8.208e+03, 7.512e+03,\n",
       "        6.845e+03, 5.985e+03, 5.340e+03, 4.904e+03, 4.233e+03, 3.712e+03,\n",
       "        3.255e+03, 2.966e+03, 2.577e+03, 2.371e+03, 2.066e+03, 1.882e+03,\n",
       "        1.713e+03, 1.549e+03, 1.336e+03, 1.270e+03, 1.079e+03, 9.760e+02,\n",
       "        8.730e+02, 8.500e+02, 7.620e+02, 6.350e+02, 6.320e+02, 5.390e+02,\n",
       "        5.270e+02, 4.470e+02, 4.230e+02, 3.710e+02, 3.520e+02, 3.100e+02,\n",
       "        2.980e+02, 2.550e+02, 2.520e+02, 2.130e+02, 2.020e+02, 2.050e+02,\n",
       "        1.600e+02, 1.670e+02, 1.360e+02, 1.390e+02, 1.180e+02, 1.180e+02,\n",
       "        1.120e+02, 9.200e+01, 6.600e+01, 8.500e+01, 7.800e+01, 6.200e+01,\n",
       "        6.600e+01, 7.300e+01, 4.800e+01, 5.000e+01, 5.400e+01, 4.800e+01,\n",
       "        4.200e+01, 2.900e+01, 3.600e+01, 3.500e+01, 3.300e+01, 2.300e+01,\n",
       "        3.600e+01, 2.500e+01, 2.300e+01, 2.100e+01, 2.300e+01, 2.500e+01,\n",
       "        2.000e+01, 1.900e+01, 2.200e+01, 1.800e+01, 1.900e+01, 1.800e+01,\n",
       "        1.500e+01, 9.000e+00, 9.000e+00, 9.000e+00, 6.000e+00, 1.400e+01,\n",
       "        1.300e+01, 9.000e+00, 6.000e+00, 8.000e+00, 1.200e+01, 6.000e+00,\n",
       "        6.000e+00, 5.000e+00, 7.000e+00, 8.000e+00, 6.000e+00, 1.100e+01,\n",
       "        9.000e+00, 1.500e+01, 1.900e+01, 5.000e+01]),\n",
       " array([1.00000e+00, 5.09900e+01, 1.00980e+02, 1.50970e+02, 2.00960e+02,\n",
       "        2.50950e+02, 3.00940e+02, 3.50930e+02, 4.00920e+02, 4.50910e+02,\n",
       "        5.00900e+02, 5.50890e+02, 6.00880e+02, 6.50870e+02, 7.00860e+02,\n",
       "        7.50850e+02, 8.00840e+02, 8.50830e+02, 9.00820e+02, 9.50810e+02,\n",
       "        1.00080e+03, 1.05079e+03, 1.10078e+03, 1.15077e+03, 1.20076e+03,\n",
       "        1.25075e+03, 1.30074e+03, 1.35073e+03, 1.40072e+03, 1.45071e+03,\n",
       "        1.50070e+03, 1.55069e+03, 1.60068e+03, 1.65067e+03, 1.70066e+03,\n",
       "        1.75065e+03, 1.80064e+03, 1.85063e+03, 1.90062e+03, 1.95061e+03,\n",
       "        2.00060e+03, 2.05059e+03, 2.10058e+03, 2.15057e+03, 2.20056e+03,\n",
       "        2.25055e+03, 2.30054e+03, 2.35053e+03, 2.40052e+03, 2.45051e+03,\n",
       "        2.50050e+03, 2.55049e+03, 2.60048e+03, 2.65047e+03, 2.70046e+03,\n",
       "        2.75045e+03, 2.80044e+03, 2.85043e+03, 2.90042e+03, 2.95041e+03,\n",
       "        3.00040e+03, 3.05039e+03, 3.10038e+03, 3.15037e+03, 3.20036e+03,\n",
       "        3.25035e+03, 3.30034e+03, 3.35033e+03, 3.40032e+03, 3.45031e+03,\n",
       "        3.50030e+03, 3.55029e+03, 3.60028e+03, 3.65027e+03, 3.70026e+03,\n",
       "        3.75025e+03, 3.80024e+03, 3.85023e+03, 3.90022e+03, 3.95021e+03,\n",
       "        4.00020e+03, 4.05019e+03, 4.10018e+03, 4.15017e+03, 4.20016e+03,\n",
       "        4.25015e+03, 4.30014e+03, 4.35013e+03, 4.40012e+03, 4.45011e+03,\n",
       "        4.50010e+03, 4.55009e+03, 4.60008e+03, 4.65007e+03, 4.70006e+03,\n",
       "        4.75005e+03, 4.80004e+03, 4.85003e+03, 4.90002e+03, 4.95001e+03,\n",
       "        5.00000e+03]),\n",
       " <a list of 100 Patch objects>)"
      ]
     },
     "execution_count": 4,
     "metadata": {},
     "output_type": "execute_result"
    },
    {
     "data": {
      "image/png": "[encoded data removed]",
      "text/plain": [
       "<Figure size 432x288 with 1 Axes>"
      ]
     },
     "metadata": {
      "needs_background": "light"
     },
     "output_type": "display_data"
    }
   ],
   "source": [
    "plt.clf() # clear previous figure\n",
    "plt.hist(df['text'].str.len(), bins=100)"
   ]
  },
  {
   "cell_type": "code",
   "execution_count": 5,
   "metadata": {},
   "outputs": [
    {
     "data": {
      "text/html": [
       "<div>\n",
       "<style scoped>\n",
       "    .dataframe tbody tr th:only-of-type {\n",
       "        vertical-align: middle;\n",
       "    }\n",
       "\n",
       "    .dataframe tbody tr th {\n",
       "        vertical-align: top;\n",
       "    }\n",
       "\n",
       "    .dataframe thead th {\n",
       "        text-align: right;\n",
       "    }\n",
       "</style>\n",
       "<table border=\"1\" class=\"dataframe\">\n",
       "  <thead>\n",
       "    <tr style=\"text-align: right;\">\n",
       "      <th></th>\n",
       "      <th>stars</th>\n",
       "      <th>text</th>\n",
       "    </tr>\n",
       "  </thead>\n",
       "  <tbody>\n",
       "    <tr>\n",
       "      <th>31846</th>\n",
       "      <td>1.0</td>\n",
       "      <td>This place is awful. If quick and dirty brunch...</td>\n",
       "    </tr>\n",
       "    <tr>\n",
       "      <th>39095</th>\n",
       "      <td>1.0</td>\n",
       "      <td>My husband and I were so overly disappointed i...</td>\n",
       "    </tr>\n",
       "    <tr>\n",
       "      <th>78683</th>\n",
       "      <td>4.0</td>\n",
       "      <td>My review will focus on the Arizona State Fair...</td>\n",
       "    </tr>\n",
       "  </tbody>\n",
       "</table>\n",
       "</div>"
      ],
      "text/plain": [
       "       stars                                               text\n",
       "31846    1.0  This place is awful. If quick and dirty brunch...\n",
       "39095    1.0  My husband and I were so overly disappointed i...\n",
       "78683    4.0  My review will focus on the Arizona State Fair..."
      ]
     },
     "execution_count": 5,
     "metadata": {},
     "output_type": "execute_result"
    }
   ],
   "source": [
    "df.loc[ df['text'].str.len() == df['text'].str.len().max() ] "
   ]
  },
  {
   "cell_type": "code",
   "execution_count": 6,
   "metadata": {
    "scrolled": true
   },
   "outputs": [
    {
     "name": "stdout",
     "output_type": "stream",
     "text": [
      "This place is awful. If quick and dirty brunch is your thing they definitely have the dirty part down pat--everything is filthy--but service is extremely slow.\n",
      "\n",
      "FILTHY. Dust everywhere, dirty cups that were poorly washed and still have lip stains on them, and food that looked worse than you could make yourself at home while hungover weren't even the worst part of it. And don't look up unless you want to gaze at the dust bunnies living in the paper lanterns above your head. Not sure how they passed a health inspection looking like that.\n",
      "\n",
      "The slow and rude service was the worst part. Our waitress was nice; the problem was with the manager or owner dude, who I will now refer to as 'Bruh' (pronounced something between 'bro' and 'bra'). It was taking a really long time to get my order. The waitress came by and put an order that looked like mine in front of me. Seconds later she came back and took it away. She had mistakenly brought it to the wrong table. She seemed new. No big deal. So the manager/owner, Bruh, was quite rude and started yelling at her across the restaurant as if to make her feel stupid that she didn't know where table 6 was. I thought that was unprofessional and felt bad and embarrassed for her. I don't support places that treat their employees disrespectfully, especially so openly in front of customers. Not cool.\n",
      "\n",
      "Several minutes later when he was coming by I got his attention and told him that it's been over half an hour since I ordered my food--though in retrospect I'd say closer to 45 minutes--and that waitstaff keep coming by and telling me it's coming, that I haven't seen it yet, and that if he could refund me my money so I can go eat somewhere else. He said \"F*** yeah bruh!\" and stormed to the cash register. He was so mad! It was a definite \"what the heck?\" moment. \n",
      "\n",
      "I went to follow him, somewhat confused as to what was going on and if I was imagining how mad he was right now. I heard him angrily say something like \"that GIRL over there,\" as if to purposely be condescending and disrespectful. When I got to the register I tried to calmly explain that I was leaving because it was taking a really long time. He yelled \"I don't care!\" He was really mad and rude, making a huge scene, as if he took it personally. His behaviour was so ridiculous that I asked \"Why are you so mad?\" and he responded that I was mad and giving attitude so he was mad back. Great answer. The professionalism and maturity definitely shined there! \n",
      "\n",
      "I was trying to calmly rationalize with him to calm him down, then he started raging, saying that his place is organic and that I could go to Egg Smart across the street and be served faster, which sounded like he was trying to act like his place was better than Egg Smart. And I'm pretty sure organic eggs cook just as fast as factory farmed eggs. I buy organic eggs, Bruh, and make them at home and they don't take that long to make. Organic food doesn't take longer to cook; I eat at local, natural and organic restaurants all the time, and Saving Gigi takes the (organic, dust-covered) cake for the worst place I've been to in a while.\n",
      "\n",
      "His behaviour was completely unwarranted and irrational. He was blowing it out of proportion. He was so mad, extremely unprofessional, and seemed to take everything personally. He was rude to me and dropping F bombs every few seconds. I was really shocked. I've never seen anything like it. I think I was more confused than offended. I decided to stop trying to rationalize and calm him down because people like that are incapable of rational thought. He was a total jerk, extremely loud and obnoxiously overreacting. Very dramatic. This guy is ridiculous and needs to chill out.\n",
      "\n",
      "This was one of my only \"hipster\" impressions and it left a bad one for sure. We left, checked Yelp and ended up going somewhere else, which also seemed to be run by hipsters--if the definition of hipsters was mid-rise tapered jeans and plaid--but they were friendly, polite and clean, so I know that this dirtiness and rude attitude wasn't a hipster thing, this was just a Saving Gigi thing. I will never go back here or the sister restaurant Saving Grace. \n",
      "\n",
      "If price is your reason for going here, it's not even that cheap. The value is not there. We went to Union on Ossington and paid $4 more for a much better dish--naturally raised, freshly ground beef burger--so if you're broke and that's why you're thinking of going here, I wouldn't even count that as a pro, bruh. It's low value. This place is expensive for what it is (which is crap, if I wasn't clear).\n",
      "\n",
      "Cole's Notes version:\n",
      "\n",
      "If waiting 45 minutes for eggs and pre-made sides, slow service with a rude unprofessional manager, dirty glasses with lip stains, hair stuck to water carafes, and an ambiance full of dust bunnies is your idea of weekend brunch, then definitely hit this place up! Maybe if you're lucky you'll get to be called \"bruh\" and referred to condescendingly and experience some F bombs and watch him rage at his staff!\n"
     ]
    }
   ],
   "source": [
    "print( df.loc[31846].text )"
   ]
  },
  {
   "cell_type": "markdown",
   "metadata": {},
   "source": []
  },
  {
   "cell_type": "markdown",
   "metadata": {},
   "source": [
    "Now we try to work with our processed data file"
   ]
  },
  {
   "cell_type": "code",
   "execution_count": 1,
   "metadata": {},
   "outputs": [],
   "source": [
    "import numpy as np\n",
    "import h5py\n",
    "import matplotlib.pyplot as plt"
   ]
  },
  {
   "cell_type": "code",
   "execution_count": 2,
   "metadata": {},
   "outputs": [
    {
     "data": {
      "text/plain": [
       "(6685900, 254)"
      ]
     },
     "execution_count": 2,
     "metadata": {},
     "output_type": "execute_result"
    }
   ],
   "source": [
    "datadir = '/home/hades/Videos/yelp'\n",
    "h5 = h5py.File(datadir+'/data.h5')\n",
    "d = h5['reviews']\n",
    "d.shape"
   ]
  },
  {
   "cell_type": "code",
   "execution_count": 3,
   "metadata": {},
   "outputs": [
    {
     "name": "stdout",
     "output_type": "stream",
     "text": [
      "[    5     1     0     0   696    26    39  3348    26  1523    44   336\n",
      "    64    14   153  5179  2731    24    72   172  4377   125   257  3044\n",
      "  6568 10127  8410     3    33   277   219   501  8900     0     0     0\n",
      "     0     0     0     0     0     0     0     0     0     0     0     0\n",
      "     0     0     0     0     0     0     0     0     0     0     0     0\n",
      "     0     0     0     0     0     0     0     0     0     0     0     0\n",
      "     0     0     0     0     0     0     0     0     0     0     0     0\n",
      "     0     0     0     0     0     0     0     0     0     0     0     0\n",
      "     0     0     0     0     0     0     0     0     0     0     0     0\n",
      "     0     0     0     0     0     0     0     0     0     0     0     0\n",
      "     0     0     0     0     0     0     0     0     0     0     0     0\n",
      "     0     0     0     0     0     0     0     0     0     0     0     0\n",
      "     0     0     0     0     0     0     0     0     0     0     0     0\n",
      "     0     0     0     0     0     0     0     0     0     0     0     0\n",
      "     0     0     0     0     0     0     0     0     0     0     0     0\n",
      "     0     0     0     0     0     0     0     0     0     0     0     0\n",
      "     0     0     0     0     0     0     0     0     0     0     0     0\n",
      "     0     0     0     0     0     0     0     0     0     0     0     0\n",
      "     0     0     0     0     0     0     0     0     0     0     0     0\n",
      "     0     0     0     0     0     0     0     0     0     0     0     0\n",
      "     0     0     0     0     0     0     0     0     0     0     0     0\n",
      "     0     0]\n"
     ]
    }
   ],
   "source": [
    "print(d[0])\n"
   ]
  },
  {
   "cell_type": "markdown",
   "metadata": {},
   "source": [
    "Here, we can have a look at the first entry. It is a positive one (5 stars in the first column) and one person found it useful. The review text is relatively short, and followed by the padding zero values."
   ]
  },
  {
   "cell_type": "markdown",
   "metadata": {},
   "source": [
    "To decode this review, we are going to use our Vocabulary class."
   ]
  },
  {
   "cell_type": "code",
   "execution_count": 4,
   "metadata": {},
   "outputs": [
    {
     "data": {
      "text/plain": [
       "'<UNK> helped out when locked out apartment he quick got at price sahara comparison all other area definately recommend top master situations requiring varying they get job done quickly proportions'"
      ]
     },
     "execution_count": 4,
     "metadata": {},
     "output_type": "execute_result"
    }
   ],
   "source": [
    "from vocabulary import Vocabulary\n",
    "vocab = Vocabulary.load(datadir+'/index')\n",
    "rev1 = d[0,1:]\n",
    "rev1 = rev1[rev1!=0]\n",
    "' '.join(vocab.decode(rev1))"
   ]
  },
  {
   "cell_type": "markdown",
   "metadata": {},
   "source": [
    "For what we want to do next, we load the whole dataset in memory, it's going to be faster:"
   ]
  },
  {
   "cell_type": "code",
   "execution_count": 5,
   "metadata": {},
   "outputs": [],
   "source": [
    "d = d[:]"
   ]
  },
  {
   "cell_type": "markdown",
   "metadata": {},
   "source": [
    "Let's plot the distribution of words in the reviews:"
   ]
  },
  {
   "cell_type": "code",
   "execution_count": 8,
   "metadata": {},
   "outputs": [
    {
     "data": {
      "image/png": "[encoded data removed]",
      "text/plain": [
       "<Figure size 432x288 with 1 Axes>"
      ]
     },
     "metadata": {
      "needs_background": "light"
     },
     "output_type": "display_data"
    }
   ],
   "source": [
    "reviews = d[:,4:]\n",
    "word_counts = np.count_nonzero(reviews, axis=1)\n",
    "# the assignment to _ avoids a long useless printout\n",
    "_ = plt.hist(word_counts,range=(-0.5,300.5),bins=301)"
   ]
  },
  {
   "cell_type": "markdown",
   "metadata": {},
   "source": [
    "Since we have truncated our reviews at a maximum length of 250, all reviews which had more words end up in the last bin.\n",
    "\n",
    "Now let's plot the rating distribution:"
   ]
  },
  {
   "cell_type": "code",
   "execution_count": 9,
   "metadata": {},
   "outputs": [
    {
     "data": {
      "text/plain": [
       "(array([1002159.,  542394.,  739280., 1468985., 2933082.]),\n",
       " array([0.5, 1.5, 2.5, 3.5, 4.5, 5.5]),\n",
       " <a list of 5 Patch objects>)"
      ]
     },
     "execution_count": 9,
     "metadata": {},
     "output_type": "execute_result"
    },
    {
     "data": {
      "image/png": "[encoded data removed]",
      "text/plain": [
       "<Figure size 432x288 with 1 Axes>"
      ]
     },
     "metadata": {
      "needs_background": "light"
     },
     "output_type": "display_data"
    }
   ],
   "source": [
    "plt.hist(d[:,0], range=(0.5,5.5), bins=5)"
   ]
  },
  {
   "cell_type": "markdown",
   "metadata": {},
   "source": [
    "Finally we can have a look at the correlation between review length and say, the rating or the usefulness. First we extract the values we want:"
   ]
  },
  {
   "cell_type": "code",
   "execution_count": 10,
   "metadata": {},
   "outputs": [],
   "source": [
    "stars = d[:,0]\n",
    "useful = d[:,1]\n",
    "funny = d[:,2]\n",
    "cool = d[:,3]"
   ]
  },
  {
   "cell_type": "markdown",
   "metadata": {},
   "source": [
    "Then we create a dataframe:"
   ]
  },
  {
   "cell_type": "code",
   "execution_count": 11,
   "metadata": {},
   "outputs": [
    {
     "data": {
      "text/html": [
       "<div>\n",
       "<style scoped>\n",
       "    .dataframe tbody tr th:only-of-type {\n",
       "        vertical-align: middle;\n",
       "    }\n",
       "\n",
       "    .dataframe tbody tr th {\n",
       "        vertical-align: top;\n",
       "    }\n",
       "\n",
       "    .dataframe thead th {\n",
       "        text-align: right;\n",
       "    }\n",
       "</style>\n",
       "<table border=\"1\" class=\"dataframe\">\n",
       "  <thead>\n",
       "    <tr style=\"text-align: right;\">\n",
       "      <th></th>\n",
       "      <th>useful</th>\n",
       "      <th>wc</th>\n",
       "      <th>stars</th>\n",
       "      <th>funny</th>\n",
       "      <th>cool</th>\n",
       "    </tr>\n",
       "  </thead>\n",
       "  <tbody>\n",
       "    <tr>\n",
       "      <th>0</th>\n",
       "      <td>1</td>\n",
       "      <td>29</td>\n",
       "      <td>5</td>\n",
       "      <td>0</td>\n",
       "      <td>0</td>\n",
       "    </tr>\n",
       "    <tr>\n",
       "      <th>1</th>\n",
       "      <td>5</td>\n",
       "      <td>130</td>\n",
       "      <td>3</td>\n",
       "      <td>2</td>\n",
       "      <td>3</td>\n",
       "    </tr>\n",
       "    <tr>\n",
       "      <th>2</th>\n",
       "      <td>0</td>\n",
       "      <td>48</td>\n",
       "      <td>5</td>\n",
       "      <td>0</td>\n",
       "      <td>0</td>\n",
       "    </tr>\n",
       "    <tr>\n",
       "      <th>3</th>\n",
       "      <td>1</td>\n",
       "      <td>99</td>\n",
       "      <td>5</td>\n",
       "      <td>0</td>\n",
       "      <td>1</td>\n",
       "    </tr>\n",
       "    <tr>\n",
       "      <th>4</th>\n",
       "      <td>4</td>\n",
       "      <td>216</td>\n",
       "      <td>3</td>\n",
       "      <td>0</td>\n",
       "      <td>0</td>\n",
       "    </tr>\n",
       "    <tr>\n",
       "      <th>5</th>\n",
       "      <td>0</td>\n",
       "      <td>23</td>\n",
       "      <td>5</td>\n",
       "      <td>0</td>\n",
       "      <td>0</td>\n",
       "    </tr>\n",
       "    <tr>\n",
       "      <th>6</th>\n",
       "      <td>0</td>\n",
       "      <td>16</td>\n",
       "      <td>5</td>\n",
       "      <td>0</td>\n",
       "      <td>0</td>\n",
       "    </tr>\n",
       "    <tr>\n",
       "      <th>7</th>\n",
       "      <td>0</td>\n",
       "      <td>49</td>\n",
       "      <td>3</td>\n",
       "      <td>0</td>\n",
       "      <td>0</td>\n",
       "    </tr>\n",
       "    <tr>\n",
       "      <th>8</th>\n",
       "      <td>2</td>\n",
       "      <td>250</td>\n",
       "      <td>1</td>\n",
       "      <td>0</td>\n",
       "      <td>0</td>\n",
       "    </tr>\n",
       "    <tr>\n",
       "      <th>9</th>\n",
       "      <td>0</td>\n",
       "      <td>65</td>\n",
       "      <td>5</td>\n",
       "      <td>0</td>\n",
       "      <td>0</td>\n",
       "    </tr>\n",
       "    <tr>\n",
       "      <th>10</th>\n",
       "      <td>0</td>\n",
       "      <td>46</td>\n",
       "      <td>1</td>\n",
       "      <td>0</td>\n",
       "      <td>0</td>\n",
       "    </tr>\n",
       "    <tr>\n",
       "      <th>11</th>\n",
       "      <td>4</td>\n",
       "      <td>32</td>\n",
       "      <td>5</td>\n",
       "      <td>1</td>\n",
       "      <td>6</td>\n",
       "    </tr>\n",
       "    <tr>\n",
       "      <th>12</th>\n",
       "      <td>0</td>\n",
       "      <td>121</td>\n",
       "      <td>4</td>\n",
       "      <td>0</td>\n",
       "      <td>0</td>\n",
       "    </tr>\n",
       "    <tr>\n",
       "      <th>13</th>\n",
       "      <td>0</td>\n",
       "      <td>50</td>\n",
       "      <td>4</td>\n",
       "      <td>0</td>\n",
       "      <td>0</td>\n",
       "    </tr>\n",
       "    <tr>\n",
       "      <th>14</th>\n",
       "      <td>0</td>\n",
       "      <td>191</td>\n",
       "      <td>3</td>\n",
       "      <td>0</td>\n",
       "      <td>0</td>\n",
       "    </tr>\n",
       "    <tr>\n",
       "      <th>15</th>\n",
       "      <td>0</td>\n",
       "      <td>23</td>\n",
       "      <td>5</td>\n",
       "      <td>0</td>\n",
       "      <td>0</td>\n",
       "    </tr>\n",
       "    <tr>\n",
       "      <th>16</th>\n",
       "      <td>0</td>\n",
       "      <td>18</td>\n",
       "      <td>5</td>\n",
       "      <td>0</td>\n",
       "      <td>0</td>\n",
       "    </tr>\n",
       "    <tr>\n",
       "      <th>17</th>\n",
       "      <td>4</td>\n",
       "      <td>103</td>\n",
       "      <td>5</td>\n",
       "      <td>2</td>\n",
       "      <td>2</td>\n",
       "    </tr>\n",
       "    <tr>\n",
       "      <th>18</th>\n",
       "      <td>2</td>\n",
       "      <td>174</td>\n",
       "      <td>4</td>\n",
       "      <td>0</td>\n",
       "      <td>0</td>\n",
       "    </tr>\n",
       "    <tr>\n",
       "      <th>19</th>\n",
       "      <td>3</td>\n",
       "      <td>28</td>\n",
       "      <td>4</td>\n",
       "      <td>3</td>\n",
       "      <td>3</td>\n",
       "    </tr>\n",
       "    <tr>\n",
       "      <th>20</th>\n",
       "      <td>0</td>\n",
       "      <td>25</td>\n",
       "      <td>5</td>\n",
       "      <td>0</td>\n",
       "      <td>1</td>\n",
       "    </tr>\n",
       "    <tr>\n",
       "      <th>21</th>\n",
       "      <td>3</td>\n",
       "      <td>133</td>\n",
       "      <td>5</td>\n",
       "      <td>0</td>\n",
       "      <td>0</td>\n",
       "    </tr>\n",
       "    <tr>\n",
       "      <th>22</th>\n",
       "      <td>0</td>\n",
       "      <td>36</td>\n",
       "      <td>5</td>\n",
       "      <td>0</td>\n",
       "      <td>0</td>\n",
       "    </tr>\n",
       "    <tr>\n",
       "      <th>23</th>\n",
       "      <td>1</td>\n",
       "      <td>38</td>\n",
       "      <td>5</td>\n",
       "      <td>0</td>\n",
       "      <td>0</td>\n",
       "    </tr>\n",
       "    <tr>\n",
       "      <th>24</th>\n",
       "      <td>1</td>\n",
       "      <td>41</td>\n",
       "      <td>5</td>\n",
       "      <td>0</td>\n",
       "      <td>1</td>\n",
       "    </tr>\n",
       "    <tr>\n",
       "      <th>25</th>\n",
       "      <td>3</td>\n",
       "      <td>60</td>\n",
       "      <td>2</td>\n",
       "      <td>0</td>\n",
       "      <td>2</td>\n",
       "    </tr>\n",
       "    <tr>\n",
       "      <th>26</th>\n",
       "      <td>0</td>\n",
       "      <td>80</td>\n",
       "      <td>5</td>\n",
       "      <td>0</td>\n",
       "      <td>0</td>\n",
       "    </tr>\n",
       "    <tr>\n",
       "      <th>27</th>\n",
       "      <td>0</td>\n",
       "      <td>148</td>\n",
       "      <td>5</td>\n",
       "      <td>0</td>\n",
       "      <td>0</td>\n",
       "    </tr>\n",
       "    <tr>\n",
       "      <th>28</th>\n",
       "      <td>5</td>\n",
       "      <td>28</td>\n",
       "      <td>1</td>\n",
       "      <td>1</td>\n",
       "      <td>1</td>\n",
       "    </tr>\n",
       "    <tr>\n",
       "      <th>29</th>\n",
       "      <td>1</td>\n",
       "      <td>155</td>\n",
       "      <td>5</td>\n",
       "      <td>0</td>\n",
       "      <td>0</td>\n",
       "    </tr>\n",
       "    <tr>\n",
       "      <th>...</th>\n",
       "      <td>...</td>\n",
       "      <td>...</td>\n",
       "      <td>...</td>\n",
       "      <td>...</td>\n",
       "      <td>...</td>\n",
       "    </tr>\n",
       "    <tr>\n",
       "      <th>6685870</th>\n",
       "      <td>0</td>\n",
       "      <td>48</td>\n",
       "      <td>5</td>\n",
       "      <td>0</td>\n",
       "      <td>0</td>\n",
       "    </tr>\n",
       "    <tr>\n",
       "      <th>6685871</th>\n",
       "      <td>0</td>\n",
       "      <td>33</td>\n",
       "      <td>5</td>\n",
       "      <td>0</td>\n",
       "      <td>0</td>\n",
       "    </tr>\n",
       "    <tr>\n",
       "      <th>6685872</th>\n",
       "      <td>0</td>\n",
       "      <td>44</td>\n",
       "      <td>1</td>\n",
       "      <td>0</td>\n",
       "      <td>0</td>\n",
       "    </tr>\n",
       "    <tr>\n",
       "      <th>6685873</th>\n",
       "      <td>7</td>\n",
       "      <td>202</td>\n",
       "      <td>5</td>\n",
       "      <td>5</td>\n",
       "      <td>4</td>\n",
       "    </tr>\n",
       "    <tr>\n",
       "      <th>6685874</th>\n",
       "      <td>0</td>\n",
       "      <td>20</td>\n",
       "      <td>1</td>\n",
       "      <td>0</td>\n",
       "      <td>0</td>\n",
       "    </tr>\n",
       "    <tr>\n",
       "      <th>6685875</th>\n",
       "      <td>4</td>\n",
       "      <td>93</td>\n",
       "      <td>2</td>\n",
       "      <td>4</td>\n",
       "      <td>2</td>\n",
       "    </tr>\n",
       "    <tr>\n",
       "      <th>6685876</th>\n",
       "      <td>4</td>\n",
       "      <td>82</td>\n",
       "      <td>5</td>\n",
       "      <td>0</td>\n",
       "      <td>0</td>\n",
       "    </tr>\n",
       "    <tr>\n",
       "      <th>6685877</th>\n",
       "      <td>1</td>\n",
       "      <td>24</td>\n",
       "      <td>5</td>\n",
       "      <td>0</td>\n",
       "      <td>0</td>\n",
       "    </tr>\n",
       "    <tr>\n",
       "      <th>6685878</th>\n",
       "      <td>3</td>\n",
       "      <td>196</td>\n",
       "      <td>5</td>\n",
       "      <td>0</td>\n",
       "      <td>1</td>\n",
       "    </tr>\n",
       "    <tr>\n",
       "      <th>6685879</th>\n",
       "      <td>0</td>\n",
       "      <td>23</td>\n",
       "      <td>5</td>\n",
       "      <td>0</td>\n",
       "      <td>0</td>\n",
       "    </tr>\n",
       "    <tr>\n",
       "      <th>6685880</th>\n",
       "      <td>0</td>\n",
       "      <td>62</td>\n",
       "      <td>4</td>\n",
       "      <td>0</td>\n",
       "      <td>0</td>\n",
       "    </tr>\n",
       "    <tr>\n",
       "      <th>6685881</th>\n",
       "      <td>0</td>\n",
       "      <td>44</td>\n",
       "      <td>5</td>\n",
       "      <td>1</td>\n",
       "      <td>0</td>\n",
       "    </tr>\n",
       "    <tr>\n",
       "      <th>6685882</th>\n",
       "      <td>4</td>\n",
       "      <td>32</td>\n",
       "      <td>4</td>\n",
       "      <td>0</td>\n",
       "      <td>1</td>\n",
       "    </tr>\n",
       "    <tr>\n",
       "      <th>6685883</th>\n",
       "      <td>0</td>\n",
       "      <td>37</td>\n",
       "      <td>5</td>\n",
       "      <td>0</td>\n",
       "      <td>0</td>\n",
       "    </tr>\n",
       "    <tr>\n",
       "      <th>6685884</th>\n",
       "      <td>0</td>\n",
       "      <td>122</td>\n",
       "      <td>1</td>\n",
       "      <td>0</td>\n",
       "      <td>0</td>\n",
       "    </tr>\n",
       "    <tr>\n",
       "      <th>6685885</th>\n",
       "      <td>2</td>\n",
       "      <td>68</td>\n",
       "      <td>3</td>\n",
       "      <td>0</td>\n",
       "      <td>0</td>\n",
       "    </tr>\n",
       "    <tr>\n",
       "      <th>6685886</th>\n",
       "      <td>0</td>\n",
       "      <td>11</td>\n",
       "      <td>5</td>\n",
       "      <td>0</td>\n",
       "      <td>0</td>\n",
       "    </tr>\n",
       "    <tr>\n",
       "      <th>6685887</th>\n",
       "      <td>0</td>\n",
       "      <td>20</td>\n",
       "      <td>5</td>\n",
       "      <td>1</td>\n",
       "      <td>0</td>\n",
       "    </tr>\n",
       "    <tr>\n",
       "      <th>6685888</th>\n",
       "      <td>0</td>\n",
       "      <td>13</td>\n",
       "      <td>5</td>\n",
       "      <td>0</td>\n",
       "      <td>0</td>\n",
       "    </tr>\n",
       "    <tr>\n",
       "      <th>6685889</th>\n",
       "      <td>0</td>\n",
       "      <td>234</td>\n",
       "      <td>2</td>\n",
       "      <td>0</td>\n",
       "      <td>0</td>\n",
       "    </tr>\n",
       "    <tr>\n",
       "      <th>6685890</th>\n",
       "      <td>0</td>\n",
       "      <td>70</td>\n",
       "      <td>3</td>\n",
       "      <td>0</td>\n",
       "      <td>0</td>\n",
       "    </tr>\n",
       "    <tr>\n",
       "      <th>6685891</th>\n",
       "      <td>6</td>\n",
       "      <td>81</td>\n",
       "      <td>4</td>\n",
       "      <td>1</td>\n",
       "      <td>8</td>\n",
       "    </tr>\n",
       "    <tr>\n",
       "      <th>6685892</th>\n",
       "      <td>0</td>\n",
       "      <td>61</td>\n",
       "      <td>3</td>\n",
       "      <td>0</td>\n",
       "      <td>0</td>\n",
       "    </tr>\n",
       "    <tr>\n",
       "      <th>6685893</th>\n",
       "      <td>3</td>\n",
       "      <td>89</td>\n",
       "      <td>2</td>\n",
       "      <td>0</td>\n",
       "      <td>0</td>\n",
       "    </tr>\n",
       "    <tr>\n",
       "      <th>6685894</th>\n",
       "      <td>1</td>\n",
       "      <td>117</td>\n",
       "      <td>4</td>\n",
       "      <td>1</td>\n",
       "      <td>1</td>\n",
       "    </tr>\n",
       "    <tr>\n",
       "      <th>6685895</th>\n",
       "      <td>0</td>\n",
       "      <td>135</td>\n",
       "      <td>4</td>\n",
       "      <td>0</td>\n",
       "      <td>0</td>\n",
       "    </tr>\n",
       "    <tr>\n",
       "      <th>6685896</th>\n",
       "      <td>37</td>\n",
       "      <td>248</td>\n",
       "      <td>4</td>\n",
       "      <td>30</td>\n",
       "      <td>34</td>\n",
       "    </tr>\n",
       "    <tr>\n",
       "      <th>6685897</th>\n",
       "      <td>14</td>\n",
       "      <td>198</td>\n",
       "      <td>1</td>\n",
       "      <td>5</td>\n",
       "      <td>2</td>\n",
       "    </tr>\n",
       "    <tr>\n",
       "      <th>6685898</th>\n",
       "      <td>1</td>\n",
       "      <td>104</td>\n",
       "      <td>1</td>\n",
       "      <td>0</td>\n",
       "      <td>0</td>\n",
       "    </tr>\n",
       "    <tr>\n",
       "      <th>6685899</th>\n",
       "      <td>1</td>\n",
       "      <td>72</td>\n",
       "      <td>3</td>\n",
       "      <td>1</td>\n",
       "      <td>1</td>\n",
       "    </tr>\n",
       "  </tbody>\n",
       "</table>\n",
       "<p>6685900 rows × 5 columns</p>\n",
       "</div>"
      ],
      "text/plain": [
       "         useful   wc  stars  funny  cool\n",
       "0             1   29      5      0     0\n",
       "1             5  130      3      2     3\n",
       "2             0   48      5      0     0\n",
       "3             1   99      5      0     1\n",
       "4             4  216      3      0     0\n",
       "5             0   23      5      0     0\n",
       "6             0   16      5      0     0\n",
       "7             0   49      3      0     0\n",
       "8             2  250      1      0     0\n",
       "9             0   65      5      0     0\n",
       "10            0   46      1      0     0\n",
       "11            4   32      5      1     6\n",
       "12            0  121      4      0     0\n",
       "13            0   50      4      0     0\n",
       "14            0  191      3      0     0\n",
       "15            0   23      5      0     0\n",
       "16            0   18      5      0     0\n",
       "17            4  103      5      2     2\n",
       "18            2  174      4      0     0\n",
       "19            3   28      4      3     3\n",
       "20            0   25      5      0     1\n",
       "21            3  133      5      0     0\n",
       "22            0   36      5      0     0\n",
       "23            1   38      5      0     0\n",
       "24            1   41      5      0     1\n",
       "25            3   60      2      0     2\n",
       "26            0   80      5      0     0\n",
       "27            0  148      5      0     0\n",
       "28            5   28      1      1     1\n",
       "29            1  155      5      0     0\n",
       "...         ...  ...    ...    ...   ...\n",
       "6685870       0   48      5      0     0\n",
       "6685871       0   33      5      0     0\n",
       "6685872       0   44      1      0     0\n",
       "6685873       7  202      5      5     4\n",
       "6685874       0   20      1      0     0\n",
       "6685875       4   93      2      4     2\n",
       "6685876       4   82      5      0     0\n",
       "6685877       1   24      5      0     0\n",
       "6685878       3  196      5      0     1\n",
       "6685879       0   23      5      0     0\n",
       "6685880       0   62      4      0     0\n",
       "6685881       0   44      5      1     0\n",
       "6685882       4   32      4      0     1\n",
       "6685883       0   37      5      0     0\n",
       "6685884       0  122      1      0     0\n",
       "6685885       2   68      3      0     0\n",
       "6685886       0   11      5      0     0\n",
       "6685887       0   20      5      1     0\n",
       "6685888       0   13      5      0     0\n",
       "6685889       0  234      2      0     0\n",
       "6685890       0   70      3      0     0\n",
       "6685891       6   81      4      1     8\n",
       "6685892       0   61      3      0     0\n",
       "6685893       3   89      2      0     0\n",
       "6685894       1  117      4      1     1\n",
       "6685895       0  135      4      0     0\n",
       "6685896      37  248      4     30    34\n",
       "6685897      14  198      1      5     2\n",
       "6685898       1  104      1      0     0\n",
       "6685899       1   72      3      1     1\n",
       "\n",
       "[6685900 rows x 5 columns]"
      ]
     },
     "execution_count": 11,
     "metadata": {},
     "output_type": "execute_result"
    }
   ],
   "source": [
    "import pandas as pd\n",
    "df = pd.DataFrame({'useful':useful, 'wc':word_counts, 'stars':stars, 'funny':funny, 'cool':cool})\n",
    "df"
   ]
  },
  {
   "cell_type": "markdown",
   "metadata": {},
   "source": [
    "Now, we group by the number of words in the review, and we compute the mean for each of the other columns:"
   ]
  },
  {
   "cell_type": "code",
   "execution_count": 12,
   "metadata": {},
   "outputs": [],
   "source": [
    "means = df.groupby('wc').mean()"
   ]
  },
  {
   "cell_type": "markdown",
   "metadata": {},
   "source": [
    "First, let's see how the average rating evolves with the number of words:"
   ]
  },
  {
   "cell_type": "code",
   "execution_count": 13,
   "metadata": {},
   "outputs": [
    {
     "data": {
      "text/plain": [
       "<matplotlib.axes._subplots.AxesSubplot at 0x7f1aa01270f0>"
      ]
     },
     "execution_count": 13,
     "metadata": {},
     "output_type": "execute_result"
    },
    {
     "data": {
      "image/png": "[encoded data removed]",
      "text/plain": [
       "<Figure size 432x288 with 1 Axes>"
      ]
     },
     "metadata": {
      "needs_background": "light"
     },
     "output_type": "display_data"
    }
   ],
   "source": [
    "means['stars'].plot()"
   ]
  },
  {
   "cell_type": "markdown",
   "metadata": {},
   "source": [
    "After a peak around 15 words, the average rating decreases steadily with the number of words. It looks like the more angry people are, the more they write.\n",
    "\n",
    "Around 250, there is a sharp drop. This is simply due to the fact that we have truncated our ratings: over 250 words, the average rating keeps dropping steadily.\n",
    "\n",
    "Now let's look at the average of the 'funny' score:"
   ]
  },
  {
   "cell_type": "code",
   "execution_count": 14,
   "metadata": {},
   "outputs": [
    {
     "data": {
      "text/plain": [
       "<matplotlib.axes._subplots.AxesSubplot at 0x7f1aa0181438>"
      ]
     },
     "execution_count": 14,
     "metadata": {},
     "output_type": "execute_result"
    },
    {
     "data": {
      "image/png": "[encoded data removed]",
      "text/plain": [
       "<Figure size 432x288 with 1 Axes>"
      ]
     },
     "metadata": {
      "needs_background": "light"
     },
     "output_type": "display_data"
    }
   ],
   "source": [
    "means['funny'].plot()"
   ]
  },
  {
   "cell_type": "markdown",
   "metadata": {},
   "source": [
    "Long reviews are more funny than the short ones. But actually, some short reviews are funny too, and I'm not too sure why."
   ]
  }
 ],
 "metadata": {
  "kernelspec": {
   "display_name": "Python 3",
   "language": "python",
   "name": "python3"
  },
  "language_info": {
   "codemirror_mode": {
    "name": "ipython",
    "version": 3
   },
   "file_extension": ".py",
   "mimetype": "text/x-python",
   "name": "python",
   "nbconvert_exporter": "python",
   "pygments_lexer": "ipython3",
   "version": "3.6.8"
  }
 },
 "nbformat": 4,
 "nbformat_minor": 2
}
