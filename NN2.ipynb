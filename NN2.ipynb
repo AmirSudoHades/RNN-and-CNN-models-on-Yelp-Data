{
 "cells": [
  {
   "cell_type": "markdown",
   "metadata": {},
   "source": [
    "Convolution layers are generally used to detect patterns in image recognition. We will use the same concept but rather apply it on a sentence instead with the following analogies: \n",
    "\n",
    "a kernel size of 3,\n",
    "64 filters 64 features (values) will be extracted from each position of the kernel,\n",
    "a ReLU activation."
   ]
  }
 ],
 "metadata": {
  "kernelspec": {
   "display_name": "Python 3",
   "language": "python",
   "name": "python3"
  },
  "language_info": {
   "codemirror_mode": {
    "name": "ipython",
    "version": 3
   },
   "file_extension": ".py",
   "mimetype": "text/x-python",
   "name": "python",
   "nbconvert_exporter": "python",
   "pygments_lexer": "ipython3",
   "version": "3.6.8"
  }
 },
 "nbformat": 4,
 "nbformat_minor": 2
}
